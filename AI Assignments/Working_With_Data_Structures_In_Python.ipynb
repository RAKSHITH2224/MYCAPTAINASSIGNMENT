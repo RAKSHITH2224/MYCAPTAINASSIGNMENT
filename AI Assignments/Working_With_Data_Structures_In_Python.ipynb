{
  "nbformat": 4,
  "nbformat_minor": 0,
  "metadata": {
    "colab": {
      "provenance": []
    },
    "kernelspec": {
      "name": "python3",
      "display_name": "Python 3"
    },
    "language_info": {
      "name": "python"
    }
  },
  "cells": [
    {
      "cell_type": "markdown",
      "source": [
        "**Write a python program to illustrate different set operations.**"
      ],
      "metadata": {
        "id": "gdw__cOYp6Uj"
      }
    },
    {
      "cell_type": "code",
      "source": [
        "#initialiing the sets\n",
        "E={0,2,4,6,8}\n",
        "N={1,2,3,4,5}"
      ],
      "metadata": {
        "id": "TRFciducp-jR"
      },
      "execution_count": 1,
      "outputs": []
    },
    {
      "cell_type": "code",
      "source": [
        "#Union of E and N\n",
        "A=E.union(N)\n",
        "print(\"Union of E and N is\",A)"
      ],
      "metadata": {
        "colab": {
          "base_uri": "https://localhost:8080/"
        },
        "id": "1FG_Z5ZcqDD6",
        "outputId": "fe998390-c5bf-4939-8b10-d7af4d110428"
      },
      "execution_count": 2,
      "outputs": [
        {
          "output_type": "stream",
          "name": "stdout",
          "text": [
            "Union of E and N is {0, 1, 2, 3, 4, 5, 6, 8}\n"
          ]
        }
      ]
    },
    {
      "cell_type": "code",
      "source": [
        "#Intersection of E and N\n",
        "B=E.intersection(N)\n",
        "print(\"Intersection of E and N is\", B)"
      ],
      "metadata": {
        "colab": {
          "base_uri": "https://localhost:8080/"
        },
        "id": "bo0FoIH9qECh",
        "outputId": "65eb91c5-322a-4477-9d59-1b8686630385"
      },
      "execution_count": 3,
      "outputs": [
        {
          "output_type": "stream",
          "name": "stdout",
          "text": [
            "Intersection of E and N is {2, 4}\n"
          ]
        }
      ]
    },
    {
      "cell_type": "code",
      "source": [
        "#Difference between E and N (E-N)\n",
        "C=E.difference(N)\n",
        "print(\"Difference of E and N is\", C)"
      ],
      "metadata": {
        "colab": {
          "base_uri": "https://localhost:8080/"
        },
        "id": "DMgrQGlpqI_T",
        "outputId": "1c12c20c-6408-490d-b789-31c188bdc350"
      },
      "execution_count": 4,
      "outputs": [
        {
          "output_type": "stream",
          "name": "stdout",
          "text": [
            "Difference of E and N is {0, 8, 6}\n"
          ]
        }
      ]
    },
    {
      "cell_type": "code",
      "source": [
        "#Symmetric Difference Between E and N ((E-N)U(N-E))\n",
        "D=E.symmetric_difference(N)\n",
        "print(\"Symmetric difference of E and N is\", D)"
      ],
      "metadata": {
        "colab": {
          "base_uri": "https://localhost:8080/"
        },
        "id": "CYMp5SzAqM9s",
        "outputId": "08856211-e3c7-4f21-be47-6d728d7c702e"
      },
      "execution_count": 5,
      "outputs": [
        {
          "output_type": "stream",
          "name": "stdout",
          "text": [
            "Symmetric difference of E and N is {0, 1, 3, 5, 6, 8}\n"
          ]
        }
      ]
    }
  ]
}